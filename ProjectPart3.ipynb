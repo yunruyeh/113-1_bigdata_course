{
 "cells": [
  {
   "cell_type": "code",
   "execution_count": 29,
   "id": "64d2d884-f99a-46e9-8e21-935c0b9400fd",
   "metadata": {
    "scrolled": true
   },
   "outputs": [],
   "source": [
    "# Step 1: Load and clean the dataset\n",
    "import pandas as pd\n",
    "\n",
    "# Load the dataset\n",
    "file_path = '/Users/yunruyeh/Desktop/W9_health_project/training_tbl_5min_test3.csv'\n",
    "data = pd.read_csv(file_path, delimiter=';')"
   ]
  },
  {
   "cell_type": "code",
   "execution_count": 31,
   "id": "9d829cf0-6a53-4750-bef9-2ce311b1d43a",
   "metadata": {},
   "outputs": [
    {
     "data": {
      "text/html": [
       "<div>\n",
       "<style scoped>\n",
       "    .dataframe tbody tr th:only-of-type {\n",
       "        vertical-align: middle;\n",
       "    }\n",
       "\n",
       "    .dataframe tbody tr th {\n",
       "        vertical-align: top;\n",
       "    }\n",
       "\n",
       "    .dataframe thead th {\n",
       "        text-align: right;\n",
       "    }\n",
       "</style>\n",
       "<table border=\"1\" class=\"dataframe\">\n",
       "  <thead>\n",
       "    <tr style=\"text-align: right;\">\n",
       "      <th></th>\n",
       "      <th>date_hora_sync</th>\n",
       "      <th>Insu_5min</th>\n",
       "      <th>Carbs_5min</th>\n",
       "      <th>Sgv_5min</th>\n",
       "    </tr>\n",
       "  </thead>\n",
       "  <tbody>\n",
       "    <tr>\n",
       "      <th>0</th>\n",
       "      <td>20190714T012000</td>\n",
       "      <td>0,02</td>\n",
       "      <td>0,08</td>\n",
       "      <td>86</td>\n",
       "    </tr>\n",
       "    <tr>\n",
       "      <th>1</th>\n",
       "      <td>20190714T012500</td>\n",
       "      <td>0,02</td>\n",
       "      <td>0,08</td>\n",
       "      <td>85</td>\n",
       "    </tr>\n",
       "    <tr>\n",
       "      <th>2</th>\n",
       "      <td>20190714T013000</td>\n",
       "      <td>0,14</td>\n",
       "      <td>0,08</td>\n",
       "      <td>86</td>\n",
       "    </tr>\n",
       "    <tr>\n",
       "      <th>3</th>\n",
       "      <td>20190714T013500</td>\n",
       "      <td>0,02</td>\n",
       "      <td>0,08</td>\n",
       "      <td>85</td>\n",
       "    </tr>\n",
       "    <tr>\n",
       "      <th>4</th>\n",
       "      <td>20190714T014000</td>\n",
       "      <td>0,02</td>\n",
       "      <td>0,08</td>\n",
       "      <td>84</td>\n",
       "    </tr>\n",
       "    <tr>\n",
       "      <th>...</th>\n",
       "      <td>...</td>\n",
       "      <td>...</td>\n",
       "      <td>...</td>\n",
       "      <td>...</td>\n",
       "    </tr>\n",
       "    <tr>\n",
       "      <th>22023</th>\n",
       "      <td>20190928T123500</td>\n",
       "      <td>0,19</td>\n",
       "      <td>1</td>\n",
       "      <td>103</td>\n",
       "    </tr>\n",
       "    <tr>\n",
       "      <th>22024</th>\n",
       "      <td>20190928T124000</td>\n",
       "      <td>0,19</td>\n",
       "      <td>1</td>\n",
       "      <td>105</td>\n",
       "    </tr>\n",
       "    <tr>\n",
       "      <th>22025</th>\n",
       "      <td>20190928T124500</td>\n",
       "      <td>0,19</td>\n",
       "      <td>1</td>\n",
       "      <td>107</td>\n",
       "    </tr>\n",
       "    <tr>\n",
       "      <th>22026</th>\n",
       "      <td>20190928T125000</td>\n",
       "      <td>0,19</td>\n",
       "      <td>1</td>\n",
       "      <td>109</td>\n",
       "    </tr>\n",
       "    <tr>\n",
       "      <th>22027</th>\n",
       "      <td>20190928T125500</td>\n",
       "      <td>0,19</td>\n",
       "      <td>1</td>\n",
       "      <td>112</td>\n",
       "    </tr>\n",
       "  </tbody>\n",
       "</table>\n",
       "<p>22028 rows × 4 columns</p>\n",
       "</div>"
      ],
      "text/plain": [
       "        date_hora_sync Insu_5min Carbs_5min  Sgv_5min\n",
       "0      20190714T012000      0,02       0,08        86\n",
       "1      20190714T012500      0,02       0,08        85\n",
       "2      20190714T013000      0,14       0,08        86\n",
       "3      20190714T013500      0,02       0,08        85\n",
       "4      20190714T014000      0,02       0,08        84\n",
       "...                ...       ...        ...       ...\n",
       "22023  20190928T123500      0,19          1       103\n",
       "22024  20190928T124000      0,19          1       105\n",
       "22025  20190928T124500      0,19          1       107\n",
       "22026  20190928T125000      0,19          1       109\n",
       "22027  20190928T125500      0,19          1       112\n",
       "\n",
       "[22028 rows x 4 columns]"
      ]
     },
     "execution_count": 31,
     "metadata": {},
     "output_type": "execute_result"
    }
   ],
   "source": [
    "data"
   ]
  },
  {
   "cell_type": "code",
   "execution_count": 33,
   "id": "5064121f-8d27-4f21-b581-038574559c09",
   "metadata": {},
   "outputs": [
    {
     "data": {
      "text/html": [
       "<div>\n",
       "<style scoped>\n",
       "    .dataframe tbody tr th:only-of-type {\n",
       "        vertical-align: middle;\n",
       "    }\n",
       "\n",
       "    .dataframe tbody tr th {\n",
       "        vertical-align: top;\n",
       "    }\n",
       "\n",
       "    .dataframe thead th {\n",
       "        text-align: right;\n",
       "    }\n",
       "</style>\n",
       "<table border=\"1\" class=\"dataframe\">\n",
       "  <thead>\n",
       "    <tr style=\"text-align: right;\">\n",
       "      <th></th>\n",
       "      <th>date_hora_sync</th>\n",
       "      <th>Insu_5min</th>\n",
       "      <th>Carbs_5min</th>\n",
       "      <th>Sgv_5min</th>\n",
       "    </tr>\n",
       "  </thead>\n",
       "  <tbody>\n",
       "    <tr>\n",
       "      <th>0</th>\n",
       "      <td>2019-07-14 01:20:00</td>\n",
       "      <td>0.02</td>\n",
       "      <td>0.08</td>\n",
       "      <td>86.0</td>\n",
       "    </tr>\n",
       "    <tr>\n",
       "      <th>1</th>\n",
       "      <td>2019-07-14 01:25:00</td>\n",
       "      <td>0.02</td>\n",
       "      <td>0.08</td>\n",
       "      <td>85.0</td>\n",
       "    </tr>\n",
       "    <tr>\n",
       "      <th>2</th>\n",
       "      <td>2019-07-14 01:30:00</td>\n",
       "      <td>0.14</td>\n",
       "      <td>0.08</td>\n",
       "      <td>86.0</td>\n",
       "    </tr>\n",
       "    <tr>\n",
       "      <th>3</th>\n",
       "      <td>2019-07-14 01:35:00</td>\n",
       "      <td>0.02</td>\n",
       "      <td>0.08</td>\n",
       "      <td>85.0</td>\n",
       "    </tr>\n",
       "    <tr>\n",
       "      <th>4</th>\n",
       "      <td>2019-07-14 01:40:00</td>\n",
       "      <td>0.02</td>\n",
       "      <td>0.08</td>\n",
       "      <td>84.0</td>\n",
       "    </tr>\n",
       "  </tbody>\n",
       "</table>\n",
       "</div>"
      ],
      "text/plain": [
       "       date_hora_sync  Insu_5min  Carbs_5min  Sgv_5min\n",
       "0 2019-07-14 01:20:00       0.02        0.08      86.0\n",
       "1 2019-07-14 01:25:00       0.02        0.08      85.0\n",
       "2 2019-07-14 01:30:00       0.14        0.08      86.0\n",
       "3 2019-07-14 01:35:00       0.02        0.08      85.0\n",
       "4 2019-07-14 01:40:00       0.02        0.08      84.0"
      ]
     },
     "execution_count": 33,
     "metadata": {},
     "output_type": "execute_result"
    }
   ],
   "source": [
    "# Cleaning and preparing the data\n",
    "# Convert columns with commas to decimals and parse datetime\n",
    "for col in ['Insu_5min', 'Carbs_5min']:\n",
    "    data[col] = data[col].str.replace(',', '.').astype(float)\n",
    "data['Sgv_5min'] = data['Sgv_5min'].astype(float)\n",
    "data['date_hora_sync'] = pd.to_datetime(data['date_hora_sync'], format='%Y%m%dT%H%M%S')\n",
    "\n",
    "# Display the first few rows of cleaned data\n",
    "data.head()"
   ]
  },
  {
   "cell_type": "code",
   "execution_count": 35,
   "id": "ba02d80e-07f4-4630-974c-a44c22a536d2",
   "metadata": {},
   "outputs": [
    {
     "name": "stdout",
     "output_type": "stream",
     "text": [
      "/Users/yunruyeh/Desktop/W9_health_project\n"
     ]
    }
   ],
   "source": [
    "import os\n",
    "print(os.getcwd())\n",
    "\n"
   ]
  },
  {
   "cell_type": "code",
   "execution_count": 37,
   "id": "9548edc3-5fef-41a4-b803-03ce4cfd4b0c",
   "metadata": {},
   "outputs": [
    {
     "name": "stdout",
     "output_type": "stream",
     "text": [
      "True\n"
     ]
    }
   ],
   "source": [
    "import os\n",
    "print(os.path.exists(file_path))\n"
   ]
  },
  {
   "cell_type": "code",
   "execution_count": 39,
   "id": "ed37813f-b8c8-4d40-881d-86900099e990",
   "metadata": {},
   "outputs": [
    {
     "data": {
      "text/html": [
       "<div>\n",
       "<style scoped>\n",
       "    .dataframe tbody tr th:only-of-type {\n",
       "        vertical-align: middle;\n",
       "    }\n",
       "\n",
       "    .dataframe tbody tr th {\n",
       "        vertical-align: top;\n",
       "    }\n",
       "\n",
       "    .dataframe thead th {\n",
       "        text-align: right;\n",
       "    }\n",
       "</style>\n",
       "<table border=\"1\" class=\"dataframe\">\n",
       "  <thead>\n",
       "    <tr style=\"text-align: right;\">\n",
       "      <th></th>\n",
       "      <th>date_hora_sync</th>\n",
       "      <th>Insu_5min</th>\n",
       "      <th>Carbs_5min</th>\n",
       "      <th>Sgv_5min</th>\n",
       "    </tr>\n",
       "  </thead>\n",
       "  <tbody>\n",
       "    <tr>\n",
       "      <th>5168</th>\n",
       "      <td>2019-08-01 00:00:00</td>\n",
       "      <td>0.36</td>\n",
       "      <td>0.9</td>\n",
       "      <td>80.0</td>\n",
       "    </tr>\n",
       "    <tr>\n",
       "      <th>5169</th>\n",
       "      <td>2019-08-01 00:05:00</td>\n",
       "      <td>0.36</td>\n",
       "      <td>0.9</td>\n",
       "      <td>80.0</td>\n",
       "    </tr>\n",
       "    <tr>\n",
       "      <th>5170</th>\n",
       "      <td>2019-08-01 00:10:00</td>\n",
       "      <td>0.36</td>\n",
       "      <td>0.9</td>\n",
       "      <td>79.0</td>\n",
       "    </tr>\n",
       "    <tr>\n",
       "      <th>5171</th>\n",
       "      <td>2019-08-01 00:15:00</td>\n",
       "      <td>0.36</td>\n",
       "      <td>0.0</td>\n",
       "      <td>76.0</td>\n",
       "    </tr>\n",
       "    <tr>\n",
       "      <th>5172</th>\n",
       "      <td>2019-08-01 00:20:00</td>\n",
       "      <td>0.00</td>\n",
       "      <td>0.0</td>\n",
       "      <td>75.0</td>\n",
       "    </tr>\n",
       "  </tbody>\n",
       "</table>\n",
       "</div>"
      ],
      "text/plain": [
       "          date_hora_sync  Insu_5min  Carbs_5min  Sgv_5min\n",
       "5168 2019-08-01 00:00:00       0.36         0.9      80.0\n",
       "5169 2019-08-01 00:05:00       0.36         0.9      80.0\n",
       "5170 2019-08-01 00:10:00       0.36         0.9      79.0\n",
       "5171 2019-08-01 00:15:00       0.36         0.0      76.0\n",
       "5172 2019-08-01 00:20:00       0.00         0.0      75.0"
      ]
     },
     "execution_count": 39,
     "metadata": {},
     "output_type": "execute_result"
    }
   ],
   "source": [
    "# Step 2: Filter data for the specified date range\n",
    "# Filter for the range 01-08-2019 to 30-08-2019\n",
    "filtered_data = data[(data['date_hora_sync'] >= '2019-08-01') & (data['date_hora_sync'] <= '2019-08-30')]\n",
    "\n",
    "# Display the first few rows of the filtered dataset\n",
    "filtered_data.head()\n"
   ]
  },
  {
   "cell_type": "code",
   "execution_count": 41,
   "id": "cf1d75ca-4ada-4b03-87ec-76840c4adda4",
   "metadata": {},
   "outputs": [
    {
     "data": {
      "text/html": [
       "<div>\n",
       "<style scoped>\n",
       "    .dataframe tbody tr th:only-of-type {\n",
       "        vertical-align: middle;\n",
       "    }\n",
       "\n",
       "    .dataframe tbody tr th {\n",
       "        vertical-align: top;\n",
       "    }\n",
       "\n",
       "    .dataframe thead th {\n",
       "        text-align: right;\n",
       "    }\n",
       "</style>\n",
       "<table border=\"1\" class=\"dataframe\">\n",
       "  <thead>\n",
       "    <tr style=\"text-align: right;\">\n",
       "      <th></th>\n",
       "      <th>date_hora_sync</th>\n",
       "      <th>Insu_5min</th>\n",
       "      <th>Carbs_5min</th>\n",
       "      <th>Sgv_5min</th>\n",
       "    </tr>\n",
       "  </thead>\n",
       "  <tbody>\n",
       "    <tr>\n",
       "      <th>5168</th>\n",
       "      <td>2019-08-01 00:00:00</td>\n",
       "      <td>0.36</td>\n",
       "      <td>0.9</td>\n",
       "      <td>80.0</td>\n",
       "    </tr>\n",
       "    <tr>\n",
       "      <th>5169</th>\n",
       "      <td>2019-08-01 00:05:00</td>\n",
       "      <td>0.36</td>\n",
       "      <td>0.9</td>\n",
       "      <td>80.0</td>\n",
       "    </tr>\n",
       "    <tr>\n",
       "      <th>5170</th>\n",
       "      <td>2019-08-01 00:10:00</td>\n",
       "      <td>0.36</td>\n",
       "      <td>0.9</td>\n",
       "      <td>79.0</td>\n",
       "    </tr>\n",
       "    <tr>\n",
       "      <th>5171</th>\n",
       "      <td>2019-08-01 00:15:00</td>\n",
       "      <td>0.36</td>\n",
       "      <td>0.0</td>\n",
       "      <td>76.0</td>\n",
       "    </tr>\n",
       "    <tr>\n",
       "      <th>5172</th>\n",
       "      <td>2019-08-01 00:20:00</td>\n",
       "      <td>0.00</td>\n",
       "      <td>0.0</td>\n",
       "      <td>75.0</td>\n",
       "    </tr>\n",
       "    <tr>\n",
       "      <th>...</th>\n",
       "      <td>...</td>\n",
       "      <td>...</td>\n",
       "      <td>...</td>\n",
       "      <td>...</td>\n",
       "    </tr>\n",
       "    <tr>\n",
       "      <th>13516</th>\n",
       "      <td>2019-08-29 23:40:00</td>\n",
       "      <td>0.52</td>\n",
       "      <td>0.0</td>\n",
       "      <td>114.0</td>\n",
       "    </tr>\n",
       "    <tr>\n",
       "      <th>13517</th>\n",
       "      <td>2019-08-29 23:45:00</td>\n",
       "      <td>0.52</td>\n",
       "      <td>0.0</td>\n",
       "      <td>115.0</td>\n",
       "    </tr>\n",
       "    <tr>\n",
       "      <th>13518</th>\n",
       "      <td>2019-08-29 23:50:00</td>\n",
       "      <td>0.52</td>\n",
       "      <td>0.0</td>\n",
       "      <td>114.0</td>\n",
       "    </tr>\n",
       "    <tr>\n",
       "      <th>13519</th>\n",
       "      <td>2019-08-29 23:55:00</td>\n",
       "      <td>0.52</td>\n",
       "      <td>0.0</td>\n",
       "      <td>112.0</td>\n",
       "    </tr>\n",
       "    <tr>\n",
       "      <th>13520</th>\n",
       "      <td>2019-08-30 00:00:00</td>\n",
       "      <td>0.26</td>\n",
       "      <td>0.0</td>\n",
       "      <td>110.0</td>\n",
       "    </tr>\n",
       "  </tbody>\n",
       "</table>\n",
       "<p>8353 rows × 4 columns</p>\n",
       "</div>"
      ],
      "text/plain": [
       "           date_hora_sync  Insu_5min  Carbs_5min  Sgv_5min\n",
       "5168  2019-08-01 00:00:00       0.36         0.9      80.0\n",
       "5169  2019-08-01 00:05:00       0.36         0.9      80.0\n",
       "5170  2019-08-01 00:10:00       0.36         0.9      79.0\n",
       "5171  2019-08-01 00:15:00       0.36         0.0      76.0\n",
       "5172  2019-08-01 00:20:00       0.00         0.0      75.0\n",
       "...                   ...        ...         ...       ...\n",
       "13516 2019-08-29 23:40:00       0.52         0.0     114.0\n",
       "13517 2019-08-29 23:45:00       0.52         0.0     115.0\n",
       "13518 2019-08-29 23:50:00       0.52         0.0     114.0\n",
       "13519 2019-08-29 23:55:00       0.52         0.0     112.0\n",
       "13520 2019-08-30 00:00:00       0.26         0.0     110.0\n",
       "\n",
       "[8353 rows x 4 columns]"
      ]
     },
     "execution_count": 41,
     "metadata": {},
     "output_type": "execute_result"
    }
   ],
   "source": [
    "filtered_data"
   ]
  },
  {
   "cell_type": "code",
   "execution_count": 43,
   "id": "33571fa5-012f-44c2-8d47-8f1e047e2808",
   "metadata": {},
   "outputs": [
    {
     "data": {
      "text/plain": [
       "((6682, 2), (1671, 2), (6682,), (1671,))"
      ]
     },
     "execution_count": 43,
     "metadata": {},
     "output_type": "execute_result"
    }
   ],
   "source": [
    "# Step 3: Split data into training and testing sets\n",
    "from sklearn.model_selection import train_test_split\n",
    "\n",
    "# Define features and target\n",
    "X = filtered_data[['Carbs_5min', 'Sgv_5min']]  # Features\n",
    "y = filtered_data['Insu_5min']  # Target\n",
    "\n",
    "# Split data: 80% training, 20% testing\n",
    "X_train, X_test, y_train, y_test = train_test_split(X, y, test_size=0.2, random_state=42)\n",
    "\n",
    "# Display the shapes of the splits\n",
    "X_train.shape, X_test.shape, y_train.shape, y_test.shape\n"
   ]
  },
  {
   "cell_type": "code",
   "execution_count": 45,
   "id": "70b65d45-0432-43b3-ba28-1ad451016600",
   "metadata": {},
   "outputs": [
    {
     "name": "stdout",
     "output_type": "stream",
     "text": [
      "Linear Regression Mean Squared Error: 0.019886274877278974\n",
      "Linear Regression R-squared: 0.3790653489035889\n"
     ]
    }
   ],
   "source": [
    "# Step 4: Apply Linear Regression\n",
    "# Initialize the Linear Regression model\n",
    "\n",
    "from sklearn.linear_model import LinearRegression\n",
    "from sklearn.metrics import mean_squared_error, r2_score\n",
    "\n",
    "linear_model = LinearRegression()\n",
    "\n",
    "# Train the model\n",
    "linear_model.fit(X_train, y_train)\n",
    "\n",
    "# Predict on the test set\n",
    "linear_predictions = linear_model.predict(X_test)\n",
    "\n",
    "# Calculate performance metrics\n",
    "linear_mse = mean_squared_error(y_test, linear_predictions)\n",
    "linear_r2 = r2_score(y_test, linear_predictions)\n",
    "\n",
    "# Display results\n",
    "print(f\"Linear Regression Mean Squared Error: {linear_mse}\")\n",
    "print(f\"Linear Regression R-squared: {linear_r2}\")\n"
   ]
  },
  {
   "cell_type": "code",
   "execution_count": 47,
   "id": "fd883bb5-92fc-4263-a907-8421ed8b68bb",
   "metadata": {},
   "outputs": [
    {
     "name": "stdout",
     "output_type": "stream",
     "text": [
      "Random Forest Regression Mean Squared Error: 0.019347432564749762\n",
      "Random Forest Regression R-squared: 0.3958903131259526\n"
     ]
    }
   ],
   "source": [
    "# Step 4: Apply Random Forest Regression\n",
    "# Initialize the Random Forest Regresson\n",
    "from sklearn.ensemble import RandomForestRegressor\n",
    "\n",
    "random_forest_model = RandomForestRegressor(random_state=42)\n",
    "\n",
    "# Train the model\n",
    "random_forest_model.fit(X_train, y_train)\n",
    "\n",
    "# Predict on the test set\n",
    "random_forest_predictions = random_forest_model.predict(X_test)\n",
    "\n",
    "# Calculate performance metrics\n",
    "rf_mse = mean_squared_error(y_test, random_forest_predictions)\n",
    "rf_r2 = r2_score(y_test, random_forest_predictions)\n",
    "\n",
    "# Display results\n",
    "print(f\"Random Forest Regression Mean Squared Error: {rf_mse}\")\n",
    "print(f\"Random Forest Regression R-squared: {rf_r2}\")"
   ]
  },
  {
   "cell_type": "code",
   "execution_count": 29,
   "id": "d5b12870-b178-46ba-b9b3-f718e4a018da",
   "metadata": {},
   "outputs": [
    {
     "name": "stdout",
     "output_type": "stream",
     "text": [
      "Collecting scikit-learn==0.22.0\n",
      "  Downloading scikit-learn-0.22.tar.gz (6.9 MB)\n",
      "\u001b[2K     \u001b[90m━━━━━━━━━━━━━━━━━━━━━━━━━━━━━━━━━━━━━━━━\u001b[0m \u001b[32m6.9/6.9 MB\u001b[0m \u001b[31m156.6 kB/s\u001b[0m eta \u001b[36m0:00:00\u001b[0m00:01\u001b[0m00:03\u001b[0m\n",
      "  Preparing metadata (setup.py) ... \u001b[?done\n",
      "\u001b[?25hRequirement already satisfied: numpy>=1.11.0 in /opt/anaconda3/lib/python3.12/site-packages (from scikit-learn==0.22.0) (1.26.4)\n",
      "Requirement already satisfied: scipy>=0.17.0 in /opt/anaconda3/lib/python3.12/site-packages (from scikit-learn==0.22.0) (1.13.1)\n",
      "Requirement already satisfied: joblib>=0.11 in /opt/anaconda3/lib/python3.12/site-packages (from scikit-learn==0.22.0) (1.4.2)\n",
      "Building wheels for collected packages: scikit-learn\n",
      "  Building wheel for scikit-learn (setup.py) ... \u001b[?25lerror\n",
      "  \u001b[1;31merror\u001b[0m: \u001b[1msubprocess-exited-with-error\u001b[0m\n",
      "  \n",
      "  \u001b[31m×\u001b[0m \u001b[32mpython setup.py bdist_wheel\u001b[0m did not run successfully.\n",
      "  \u001b[31m│\u001b[0m exit code: \u001b[1;36m1\u001b[0m\n",
      "  \u001b[31m╰─>\u001b[0m \u001b[31m[11 lines of output]\u001b[0m\n",
      "  \u001b[31m   \u001b[0m /private/var/folders/_6/br1hrvkn6x9f7l4sfjq8d0g40000gn/T/pip-install-6925rq51/scikit-learn_22783f1c0cc5475a949fc357bdee6bd4/setup.py:12: DeprecationWarning: pkg_resources is deprecated as an API. See https://setuptools.pypa.io/en/latest/pkg_resources.html\n",
      "  \u001b[31m   \u001b[0m   from pkg_resources import parse_version\n",
      "  \u001b[31m   \u001b[0m Partial import of sklearn during the build process.\n",
      "  \u001b[31m   \u001b[0m Traceback (most recent call last):\n",
      "  \u001b[31m   \u001b[0m   File \"<string>\", line 2, in <module>\n",
      "  \u001b[31m   \u001b[0m   File \"<pip-setuptools-caller>\", line 34, in <module>\n",
      "  \u001b[31m   \u001b[0m   File \"/private/var/folders/_6/br1hrvkn6x9f7l4sfjq8d0g40000gn/T/pip-install-6925rq51/scikit-learn_22783f1c0cc5475a949fc357bdee6bd4/setup.py\", line 303, in <module>\n",
      "  \u001b[31m   \u001b[0m     setup_package()\n",
      "  \u001b[31m   \u001b[0m   File \"/private/var/folders/_6/br1hrvkn6x9f7l4sfjq8d0g40000gn/T/pip-install-6925rq51/scikit-learn_22783f1c0cc5475a949fc357bdee6bd4/setup.py\", line 295, in setup_package\n",
      "  \u001b[31m   \u001b[0m     from numpy.distutils.core import setup\n",
      "  \u001b[31m   \u001b[0m ModuleNotFoundError: No module named 'numpy.distutils'\n",
      "  \u001b[31m   \u001b[0m \u001b[31m[end of output]\u001b[0m\n",
      "  \n",
      "  \u001b[1;35mnote\u001b[0m: This error originates from a subprocess, and is likely not a problem with pip.\n",
      "\u001b[31m  ERROR: Failed building wheel for scikit-learn\u001b[0m\u001b[31m\n",
      "\u001b[0m\u001b[?25h  Running setup.py clean for scikit-learn\n",
      "Failed to build scikit-learn\n",
      "\u001b[31mERROR: ERROR: Failed to build installable wheels for some pyproject.toml based projects (scikit-learn)\u001b[0m\u001b[31m\n",
      "\u001b[0m"
     ]
    }
   ],
   "source": [
    "!pip install scikit-learn==0.22.0"
   ]
  },
  {
   "cell_type": "code",
   "execution_count": 49,
   "id": "670531c3-853e-4b88-98e0-f0da408e4de1",
   "metadata": {},
   "outputs": [
    {
     "name": "stdout",
     "output_type": "stream",
     "text": [
      "/opt/anaconda3/bin/python\n"
     ]
    }
   ],
   "source": [
    "import sys\n",
    "print(sys.executable)"
   ]
  },
  {
   "cell_type": "code",
   "execution_count": 51,
   "id": "656596c5-5842-45a7-a6ba-49d4b4d22f42",
   "metadata": {},
   "outputs": [
    {
     "name": "stdout",
     "output_type": "stream",
     "text": [
      "\u001b[31mERROR: Could not find a version that satisfies the requirement sklearn-rulefit (from versions: none)\u001b[0m\u001b[31m\n",
      "\u001b[31mERROR: No matching distribution found for sklearn-rulefit\u001b[0m\u001b[31m\n",
      "\u001b[0m"
     ]
    }
   ],
   "source": [
    "!pip install sklearn-rulefit"
   ]
  },
  {
   "cell_type": "code",
   "execution_count": 53,
   "id": "47a14974-18d4-4fd1-adbe-bfb34650bea5",
   "metadata": {},
   "outputs": [
    {
     "ename": "InvalidIndexError",
     "evalue": "(slice(None, None, None), 0)",
     "output_type": "error",
     "traceback": [
      "\u001b[0;31m---------------------------------------------------------------------------\u001b[0m",
      "\u001b[0;31mKeyError\u001b[0m                                  Traceback (most recent call last)",
      "File \u001b[0;32m/opt/anaconda3/lib/python3.12/site-packages/pandas/core/indexes/base.py:3805\u001b[0m, in \u001b[0;36mIndex.get_loc\u001b[0;34m(self, key)\u001b[0m\n\u001b[1;32m   3804\u001b[0m \u001b[38;5;28;01mtry\u001b[39;00m:\n\u001b[0;32m-> 3805\u001b[0m     \u001b[38;5;28;01mreturn\u001b[39;00m \u001b[38;5;28mself\u001b[39m\u001b[38;5;241m.\u001b[39m_engine\u001b[38;5;241m.\u001b[39mget_loc(casted_key)\n\u001b[1;32m   3806\u001b[0m \u001b[38;5;28;01mexcept\u001b[39;00m \u001b[38;5;167;01mKeyError\u001b[39;00m \u001b[38;5;28;01mas\u001b[39;00m err:\n",
      "File \u001b[0;32mindex.pyx:167\u001b[0m, in \u001b[0;36mpandas._libs.index.IndexEngine.get_loc\u001b[0;34m()\u001b[0m\n",
      "File \u001b[0;32mindex.pyx:196\u001b[0m, in \u001b[0;36mpandas._libs.index.IndexEngine.get_loc\u001b[0;34m()\u001b[0m\n",
      "File \u001b[0;32mpandas/_libs/hashtable_class_helper.pxi:7081\u001b[0m, in \u001b[0;36mpandas._libs.hashtable.PyObjectHashTable.get_item\u001b[0;34m()\u001b[0m\n",
      "File \u001b[0;32mpandas/_libs/hashtable_class_helper.pxi:7089\u001b[0m, in \u001b[0;36mpandas._libs.hashtable.PyObjectHashTable.get_item\u001b[0;34m()\u001b[0m\n",
      "\u001b[0;31mKeyError\u001b[0m: (slice(None, None, None), 0)",
      "\nDuring handling of the above exception, another exception occurred:\n",
      "\u001b[0;31mInvalidIndexError\u001b[0m                         Traceback (most recent call last)",
      "Cell \u001b[0;32mIn[53], line 13\u001b[0m\n\u001b[1;32m     10\u001b[0m rulefit_model \u001b[38;5;241m=\u001b[39m RuleFit()\n\u001b[1;32m     12\u001b[0m \u001b[38;5;66;03m# 訓練模型\u001b[39;00m\n\u001b[0;32m---> 13\u001b[0m rulefit_model\u001b[38;5;241m.\u001b[39mfit(X_train, y_train)\n\u001b[1;32m     15\u001b[0m \u001b[38;5;66;03m# 在測試集上進行預測\u001b[39;00m\n\u001b[1;32m     16\u001b[0m rulefit_predictions \u001b[38;5;241m=\u001b[39m rulefit_model\u001b[38;5;241m.\u001b[39mpredict(X_test)\n",
      "File \u001b[0;32m/opt/anaconda3/lib/python3.12/site-packages/rulefit/rulefit.py:494\u001b[0m, in \u001b[0;36mRuleFit.fit\u001b[0;34m(self, X, y, feature_names)\u001b[0m\n\u001b[1;32m    489\u001b[0m     \u001b[38;5;28mself\u001b[39m\u001b[38;5;241m.\u001b[39mrule_ensemble \u001b[38;5;241m=\u001b[39m RuleEnsemble(\n\u001b[1;32m    490\u001b[0m         tree_list\u001b[38;5;241m=\u001b[39mtree_list, feature_names\u001b[38;5;241m=\u001b[39m\u001b[38;5;28mself\u001b[39m\u001b[38;5;241m.\u001b[39mfeature_names\n\u001b[1;32m    491\u001b[0m     )\n\u001b[1;32m    493\u001b[0m     \u001b[38;5;66;03m## concatenate original features and rules\u001b[39;00m\n\u001b[0;32m--> 494\u001b[0m     X_rules \u001b[38;5;241m=\u001b[39m \u001b[38;5;28mself\u001b[39m\u001b[38;5;241m.\u001b[39mrule_ensemble\u001b[38;5;241m.\u001b[39mtransform(X)\n\u001b[1;32m    496\u001b[0m \u001b[38;5;66;03m## standardise linear variables if requested (for regression model only)\u001b[39;00m\n\u001b[1;32m    497\u001b[0m \u001b[38;5;28;01mif\u001b[39;00m \u001b[38;5;124m\"\u001b[39m\u001b[38;5;124ml\u001b[39m\u001b[38;5;124m\"\u001b[39m \u001b[38;5;129;01min\u001b[39;00m \u001b[38;5;28mself\u001b[39m\u001b[38;5;241m.\u001b[39mmodel_type:\n\u001b[1;32m    498\u001b[0m     \u001b[38;5;66;03m## standard deviation and mean of winsorized features\u001b[39;00m\n",
      "File \u001b[0;32m/opt/anaconda3/lib/python3.12/site-packages/rulefit/rulefit.py:289\u001b[0m, in \u001b[0;36mRuleEnsemble.transform\u001b[0;34m(self, X, coefs)\u001b[0m\n\u001b[1;32m    287\u001b[0m rule_list \u001b[38;5;241m=\u001b[39m \u001b[38;5;28mlist\u001b[39m(\u001b[38;5;28mself\u001b[39m\u001b[38;5;241m.\u001b[39mrules)\n\u001b[1;32m    288\u001b[0m \u001b[38;5;28;01mif\u001b[39;00m coefs \u001b[38;5;129;01mis\u001b[39;00m \u001b[38;5;28;01mNone\u001b[39;00m:\n\u001b[0;32m--> 289\u001b[0m     \u001b[38;5;28;01mreturn\u001b[39;00m np\u001b[38;5;241m.\u001b[39marray([rule\u001b[38;5;241m.\u001b[39mtransform(X) \u001b[38;5;28;01mfor\u001b[39;00m rule \u001b[38;5;129;01min\u001b[39;00m rule_list])\u001b[38;5;241m.\u001b[39mT\n\u001b[1;32m    290\u001b[0m \u001b[38;5;28;01melse\u001b[39;00m:  \u001b[38;5;66;03m# else use the coefs to filter the rules we bother to interpret\u001b[39;00m\n\u001b[1;32m    291\u001b[0m     res \u001b[38;5;241m=\u001b[39m np\u001b[38;5;241m.\u001b[39marray(\n\u001b[1;32m    292\u001b[0m         [\n\u001b[1;32m    293\u001b[0m             rule_list[i_rule]\u001b[38;5;241m.\u001b[39mtransform(X)\n\u001b[0;32m   (...)\u001b[0m\n\u001b[1;32m    296\u001b[0m         ]\n\u001b[1;32m    297\u001b[0m     )\u001b[38;5;241m.\u001b[39mT\n",
      "File \u001b[0;32m/opt/anaconda3/lib/python3.12/site-packages/rulefit/rulefit.py:169\u001b[0m, in \u001b[0;36mRule.transform\u001b[0;34m(self, X)\u001b[0m\n\u001b[1;32m    158\u001b[0m \u001b[38;5;28;01mdef\u001b[39;00m \u001b[38;5;21mtransform\u001b[39m(\u001b[38;5;28mself\u001b[39m, X):\n\u001b[1;32m    159\u001b[0m \u001b[38;5;250m    \u001b[39m\u001b[38;5;124;03m\"\"\"Transform dataset.\u001b[39;00m\n\u001b[1;32m    160\u001b[0m \n\u001b[1;32m    161\u001b[0m \u001b[38;5;124;03m    Parameters\u001b[39;00m\n\u001b[0;32m   (...)\u001b[0m\n\u001b[1;32m    167\u001b[0m \u001b[38;5;124;03m    X_transformed: array-like matrix, shape=(n_samples, 1)\u001b[39;00m\n\u001b[1;32m    168\u001b[0m \u001b[38;5;124;03m    \"\"\"\u001b[39;00m\n\u001b[0;32m--> 169\u001b[0m     rule_applies \u001b[38;5;241m=\u001b[39m [condition\u001b[38;5;241m.\u001b[39mtransform(X) \u001b[38;5;28;01mfor\u001b[39;00m condition \u001b[38;5;129;01min\u001b[39;00m \u001b[38;5;28mself\u001b[39m\u001b[38;5;241m.\u001b[39mconditions]\n\u001b[1;32m    170\u001b[0m     \u001b[38;5;28;01mreturn\u001b[39;00m reduce(\u001b[38;5;28;01mlambda\u001b[39;00m x, y: x \u001b[38;5;241m*\u001b[39m y, rule_applies)\n",
      "File \u001b[0;32m/opt/anaconda3/lib/python3.12/site-packages/rulefit/rulefit.py:63\u001b[0m, in \u001b[0;36mRuleCondition.transform\u001b[0;34m(self, X)\u001b[0m\n\u001b[1;32m     52\u001b[0m \u001b[38;5;250m\u001b[39m\u001b[38;5;124;03m\"\"\"Transform dataset.\u001b[39;00m\n\u001b[1;32m     53\u001b[0m \n\u001b[1;32m     54\u001b[0m \u001b[38;5;124;03mParameters\u001b[39;00m\n\u001b[0;32m   (...)\u001b[0m\n\u001b[1;32m     60\u001b[0m \u001b[38;5;124;03mX_transformed: array-like matrix, shape=(n_samples, 1)\u001b[39;00m\n\u001b[1;32m     61\u001b[0m \u001b[38;5;124;03m\"\"\"\u001b[39;00m\n\u001b[1;32m     62\u001b[0m \u001b[38;5;28;01mif\u001b[39;00m \u001b[38;5;28mself\u001b[39m\u001b[38;5;241m.\u001b[39moperator \u001b[38;5;241m==\u001b[39m \u001b[38;5;124m\"\u001b[39m\u001b[38;5;124m<=\u001b[39m\u001b[38;5;124m\"\u001b[39m:\n\u001b[0;32m---> 63\u001b[0m     res \u001b[38;5;241m=\u001b[39m \u001b[38;5;241m1\u001b[39m \u001b[38;5;241m*\u001b[39m (X[:, \u001b[38;5;28mself\u001b[39m\u001b[38;5;241m.\u001b[39mfeature_index] \u001b[38;5;241m<\u001b[39m\u001b[38;5;241m=\u001b[39m \u001b[38;5;28mself\u001b[39m\u001b[38;5;241m.\u001b[39mthreshold)\n\u001b[1;32m     64\u001b[0m \u001b[38;5;28;01melif\u001b[39;00m \u001b[38;5;28mself\u001b[39m\u001b[38;5;241m.\u001b[39moperator \u001b[38;5;241m==\u001b[39m \u001b[38;5;124m\"\u001b[39m\u001b[38;5;124m>\u001b[39m\u001b[38;5;124m\"\u001b[39m:\n\u001b[1;32m     65\u001b[0m     res \u001b[38;5;241m=\u001b[39m \u001b[38;5;241m1\u001b[39m \u001b[38;5;241m*\u001b[39m (X[:, \u001b[38;5;28mself\u001b[39m\u001b[38;5;241m.\u001b[39mfeature_index] \u001b[38;5;241m>\u001b[39m \u001b[38;5;28mself\u001b[39m\u001b[38;5;241m.\u001b[39mthreshold)\n",
      "File \u001b[0;32m/opt/anaconda3/lib/python3.12/site-packages/pandas/core/frame.py:4102\u001b[0m, in \u001b[0;36mDataFrame.__getitem__\u001b[0;34m(self, key)\u001b[0m\n\u001b[1;32m   4100\u001b[0m \u001b[38;5;28;01mif\u001b[39;00m \u001b[38;5;28mself\u001b[39m\u001b[38;5;241m.\u001b[39mcolumns\u001b[38;5;241m.\u001b[39mnlevels \u001b[38;5;241m>\u001b[39m \u001b[38;5;241m1\u001b[39m:\n\u001b[1;32m   4101\u001b[0m     \u001b[38;5;28;01mreturn\u001b[39;00m \u001b[38;5;28mself\u001b[39m\u001b[38;5;241m.\u001b[39m_getitem_multilevel(key)\n\u001b[0;32m-> 4102\u001b[0m indexer \u001b[38;5;241m=\u001b[39m \u001b[38;5;28mself\u001b[39m\u001b[38;5;241m.\u001b[39mcolumns\u001b[38;5;241m.\u001b[39mget_loc(key)\n\u001b[1;32m   4103\u001b[0m \u001b[38;5;28;01mif\u001b[39;00m is_integer(indexer):\n\u001b[1;32m   4104\u001b[0m     indexer \u001b[38;5;241m=\u001b[39m [indexer]\n",
      "File \u001b[0;32m/opt/anaconda3/lib/python3.12/site-packages/pandas/core/indexes/base.py:3811\u001b[0m, in \u001b[0;36mIndex.get_loc\u001b[0;34m(self, key)\u001b[0m\n\u001b[1;32m   3806\u001b[0m \u001b[38;5;28;01mexcept\u001b[39;00m \u001b[38;5;167;01mKeyError\u001b[39;00m \u001b[38;5;28;01mas\u001b[39;00m err:\n\u001b[1;32m   3807\u001b[0m     \u001b[38;5;28;01mif\u001b[39;00m \u001b[38;5;28misinstance\u001b[39m(casted_key, \u001b[38;5;28mslice\u001b[39m) \u001b[38;5;129;01mor\u001b[39;00m (\n\u001b[1;32m   3808\u001b[0m         \u001b[38;5;28misinstance\u001b[39m(casted_key, abc\u001b[38;5;241m.\u001b[39mIterable)\n\u001b[1;32m   3809\u001b[0m         \u001b[38;5;129;01mand\u001b[39;00m \u001b[38;5;28many\u001b[39m(\u001b[38;5;28misinstance\u001b[39m(x, \u001b[38;5;28mslice\u001b[39m) \u001b[38;5;28;01mfor\u001b[39;00m x \u001b[38;5;129;01min\u001b[39;00m casted_key)\n\u001b[1;32m   3810\u001b[0m     ):\n\u001b[0;32m-> 3811\u001b[0m         \u001b[38;5;28;01mraise\u001b[39;00m InvalidIndexError(key)\n\u001b[1;32m   3812\u001b[0m     \u001b[38;5;28;01mraise\u001b[39;00m \u001b[38;5;167;01mKeyError\u001b[39;00m(key) \u001b[38;5;28;01mfrom\u001b[39;00m \u001b[38;5;21;01merr\u001b[39;00m\n\u001b[1;32m   3813\u001b[0m \u001b[38;5;28;01mexcept\u001b[39;00m \u001b[38;5;167;01mTypeError\u001b[39;00m:\n\u001b[1;32m   3814\u001b[0m     \u001b[38;5;66;03m# If we have a listlike key, _check_indexing_error will raise\u001b[39;00m\n\u001b[1;32m   3815\u001b[0m     \u001b[38;5;66;03m#  InvalidIndexError. Otherwise we fall through and re-raise\u001b[39;00m\n\u001b[1;32m   3816\u001b[0m     \u001b[38;5;66;03m#  the TypeError.\u001b[39;00m\n",
      "\u001b[0;31mInvalidIndexError\u001b[0m: (slice(None, None, None), 0)"
     ]
    }
   ],
   "source": [
    "# Step 4: Apply Cubist Regression\n",
    "# Step 4: Apply Rule-Based Regression (Cubist-like)\n",
    "# Initialize the RuleFit model\n",
    "from rulefit import RuleFit\n",
    "from sklearn.metrics import mean_squared_error, r2_score\n",
    "\n",
    "rulefit_model = RuleFit()\n",
    "\n",
    "# 初始化 RuleFit 模型\n",
    "rulefit_model = RuleFit()\n",
    "\n",
    "# 訓練模型\n",
    "rulefit_model.fit(X_train, y_train)\n",
    "\n",
    "# 在測試集上進行預測\n",
    "rulefit_predictions = rulefit_model.predict(X_test)\n",
    "\n",
    "# 計算性能指標\n",
    "rulefit_mse = mean_squared_error(y_test, rulefit_predictions)\n",
    "rulefit_r2 = r2_score(y_test, rulefit_predictions)\n",
    "\n",
    "# 顯示結果\n",
    "print(f\"RuleFit Model Mean Squared Error: {rulefit_mse}\")\n",
    "print(f\"RuleFit Model R-squared: {rulefit_r2}\")"
   ]
  },
  {
   "cell_type": "code",
   "execution_count": 25,
   "id": "77ecc127-344b-43e1-a4c9-76c57f8a2251",
   "metadata": {},
   "outputs": [
    {
     "name": "stdout",
     "output_type": "stream",
     "text": [
      "(6682, 2)\n",
      "(1671, 2)\n",
      "(6682,)\n",
      "(1671,)\n"
     ]
    }
   ],
   "source": [
    "print(X_train.shape)\n",
    "print(X_test.shape)\n",
    "print(y_train.shape)\n",
    "print(y_test.shape)\n"
   ]
  },
  {
   "cell_type": "code",
   "execution_count": 27,
   "id": "9c50f636-dafc-4843-bd72-3e1a4f0b3928",
   "metadata": {},
   "outputs": [
    {
     "name": "stdout",
     "output_type": "stream",
     "text": [
      "delete estimators_\n"
     ]
    },
    {
     "ename": "InvalidIndexError",
     "evalue": "(slice(None, None, None), 0)",
     "output_type": "error",
     "traceback": [
      "\u001b[0;31m---------------------------------------------------------------------------\u001b[0m",
      "\u001b[0;31mKeyError\u001b[0m                                  Traceback (most recent call last)",
      "File \u001b[0;32m/opt/anaconda3/lib/python3.12/site-packages/pandas/core/indexes/base.py:3805\u001b[0m, in \u001b[0;36mIndex.get_loc\u001b[0;34m(self, key)\u001b[0m\n\u001b[1;32m   3804\u001b[0m \u001b[38;5;28;01mtry\u001b[39;00m:\n\u001b[0;32m-> 3805\u001b[0m     \u001b[38;5;28;01mreturn\u001b[39;00m \u001b[38;5;28mself\u001b[39m\u001b[38;5;241m.\u001b[39m_engine\u001b[38;5;241m.\u001b[39mget_loc(casted_key)\n\u001b[1;32m   3806\u001b[0m \u001b[38;5;28;01mexcept\u001b[39;00m \u001b[38;5;167;01mKeyError\u001b[39;00m \u001b[38;5;28;01mas\u001b[39;00m err:\n",
      "File \u001b[0;32mindex.pyx:167\u001b[0m, in \u001b[0;36mpandas._libs.index.IndexEngine.get_loc\u001b[0;34m()\u001b[0m\n",
      "File \u001b[0;32mindex.pyx:196\u001b[0m, in \u001b[0;36mpandas._libs.index.IndexEngine.get_loc\u001b[0;34m()\u001b[0m\n",
      "File \u001b[0;32mpandas/_libs/hashtable_class_helper.pxi:7081\u001b[0m, in \u001b[0;36mpandas._libs.hashtable.PyObjectHashTable.get_item\u001b[0;34m()\u001b[0m\n",
      "File \u001b[0;32mpandas/_libs/hashtable_class_helper.pxi:7089\u001b[0m, in \u001b[0;36mpandas._libs.hashtable.PyObjectHashTable.get_item\u001b[0;34m()\u001b[0m\n",
      "\u001b[0;31mKeyError\u001b[0m: (slice(None, None, None), 0)",
      "\nDuring handling of the above exception, another exception occurred:\n",
      "\u001b[0;31mInvalidIndexError\u001b[0m                         Traceback (most recent call last)",
      "Cell \u001b[0;32mIn[27], line 2\u001b[0m\n\u001b[1;32m      1\u001b[0m \u001b[38;5;66;03m# 訓練模型\u001b[39;00m\n\u001b[0;32m----> 2\u001b[0m rulefit_model\u001b[38;5;241m.\u001b[39mfit(X_train, y_train)\n\u001b[1;32m      4\u001b[0m \u001b[38;5;66;03m# 在測試集上進行預測\u001b[39;00m\n\u001b[1;32m      5\u001b[0m rulefit_predictions \u001b[38;5;241m=\u001b[39m rulefit_model\u001b[38;5;241m.\u001b[39mpredict(X_test)\n",
      "File \u001b[0;32m/opt/anaconda3/lib/python3.12/site-packages/rulefit/rulefit.py:494\u001b[0m, in \u001b[0;36mRuleFit.fit\u001b[0;34m(self, X, y, feature_names)\u001b[0m\n\u001b[1;32m    489\u001b[0m     \u001b[38;5;28mself\u001b[39m\u001b[38;5;241m.\u001b[39mrule_ensemble \u001b[38;5;241m=\u001b[39m RuleEnsemble(\n\u001b[1;32m    490\u001b[0m         tree_list\u001b[38;5;241m=\u001b[39mtree_list, feature_names\u001b[38;5;241m=\u001b[39m\u001b[38;5;28mself\u001b[39m\u001b[38;5;241m.\u001b[39mfeature_names\n\u001b[1;32m    491\u001b[0m     )\n\u001b[1;32m    493\u001b[0m     \u001b[38;5;66;03m## concatenate original features and rules\u001b[39;00m\n\u001b[0;32m--> 494\u001b[0m     X_rules \u001b[38;5;241m=\u001b[39m \u001b[38;5;28mself\u001b[39m\u001b[38;5;241m.\u001b[39mrule_ensemble\u001b[38;5;241m.\u001b[39mtransform(X)\n\u001b[1;32m    496\u001b[0m \u001b[38;5;66;03m## standardise linear variables if requested (for regression model only)\u001b[39;00m\n\u001b[1;32m    497\u001b[0m \u001b[38;5;28;01mif\u001b[39;00m \u001b[38;5;124m\"\u001b[39m\u001b[38;5;124ml\u001b[39m\u001b[38;5;124m\"\u001b[39m \u001b[38;5;129;01min\u001b[39;00m \u001b[38;5;28mself\u001b[39m\u001b[38;5;241m.\u001b[39mmodel_type:\n\u001b[1;32m    498\u001b[0m     \u001b[38;5;66;03m## standard deviation and mean of winsorized features\u001b[39;00m\n",
      "File \u001b[0;32m/opt/anaconda3/lib/python3.12/site-packages/rulefit/rulefit.py:289\u001b[0m, in \u001b[0;36mRuleEnsemble.transform\u001b[0;34m(self, X, coefs)\u001b[0m\n\u001b[1;32m    287\u001b[0m rule_list \u001b[38;5;241m=\u001b[39m \u001b[38;5;28mlist\u001b[39m(\u001b[38;5;28mself\u001b[39m\u001b[38;5;241m.\u001b[39mrules)\n\u001b[1;32m    288\u001b[0m \u001b[38;5;28;01mif\u001b[39;00m coefs \u001b[38;5;129;01mis\u001b[39;00m \u001b[38;5;28;01mNone\u001b[39;00m:\n\u001b[0;32m--> 289\u001b[0m     \u001b[38;5;28;01mreturn\u001b[39;00m np\u001b[38;5;241m.\u001b[39marray([rule\u001b[38;5;241m.\u001b[39mtransform(X) \u001b[38;5;28;01mfor\u001b[39;00m rule \u001b[38;5;129;01min\u001b[39;00m rule_list])\u001b[38;5;241m.\u001b[39mT\n\u001b[1;32m    290\u001b[0m \u001b[38;5;28;01melse\u001b[39;00m:  \u001b[38;5;66;03m# else use the coefs to filter the rules we bother to interpret\u001b[39;00m\n\u001b[1;32m    291\u001b[0m     res \u001b[38;5;241m=\u001b[39m np\u001b[38;5;241m.\u001b[39marray(\n\u001b[1;32m    292\u001b[0m         [\n\u001b[1;32m    293\u001b[0m             rule_list[i_rule]\u001b[38;5;241m.\u001b[39mtransform(X)\n\u001b[0;32m   (...)\u001b[0m\n\u001b[1;32m    296\u001b[0m         ]\n\u001b[1;32m    297\u001b[0m     )\u001b[38;5;241m.\u001b[39mT\n",
      "File \u001b[0;32m/opt/anaconda3/lib/python3.12/site-packages/rulefit/rulefit.py:169\u001b[0m, in \u001b[0;36mRule.transform\u001b[0;34m(self, X)\u001b[0m\n\u001b[1;32m    158\u001b[0m \u001b[38;5;28;01mdef\u001b[39;00m \u001b[38;5;21mtransform\u001b[39m(\u001b[38;5;28mself\u001b[39m, X):\n\u001b[1;32m    159\u001b[0m \u001b[38;5;250m    \u001b[39m\u001b[38;5;124;03m\"\"\"Transform dataset.\u001b[39;00m\n\u001b[1;32m    160\u001b[0m \n\u001b[1;32m    161\u001b[0m \u001b[38;5;124;03m    Parameters\u001b[39;00m\n\u001b[0;32m   (...)\u001b[0m\n\u001b[1;32m    167\u001b[0m \u001b[38;5;124;03m    X_transformed: array-like matrix, shape=(n_samples, 1)\u001b[39;00m\n\u001b[1;32m    168\u001b[0m \u001b[38;5;124;03m    \"\"\"\u001b[39;00m\n\u001b[0;32m--> 169\u001b[0m     rule_applies \u001b[38;5;241m=\u001b[39m [condition\u001b[38;5;241m.\u001b[39mtransform(X) \u001b[38;5;28;01mfor\u001b[39;00m condition \u001b[38;5;129;01min\u001b[39;00m \u001b[38;5;28mself\u001b[39m\u001b[38;5;241m.\u001b[39mconditions]\n\u001b[1;32m    170\u001b[0m     \u001b[38;5;28;01mreturn\u001b[39;00m reduce(\u001b[38;5;28;01mlambda\u001b[39;00m x, y: x \u001b[38;5;241m*\u001b[39m y, rule_applies)\n",
      "File \u001b[0;32m/opt/anaconda3/lib/python3.12/site-packages/rulefit/rulefit.py:63\u001b[0m, in \u001b[0;36mRuleCondition.transform\u001b[0;34m(self, X)\u001b[0m\n\u001b[1;32m     52\u001b[0m \u001b[38;5;250m\u001b[39m\u001b[38;5;124;03m\"\"\"Transform dataset.\u001b[39;00m\n\u001b[1;32m     53\u001b[0m \n\u001b[1;32m     54\u001b[0m \u001b[38;5;124;03mParameters\u001b[39;00m\n\u001b[0;32m   (...)\u001b[0m\n\u001b[1;32m     60\u001b[0m \u001b[38;5;124;03mX_transformed: array-like matrix, shape=(n_samples, 1)\u001b[39;00m\n\u001b[1;32m     61\u001b[0m \u001b[38;5;124;03m\"\"\"\u001b[39;00m\n\u001b[1;32m     62\u001b[0m \u001b[38;5;28;01mif\u001b[39;00m \u001b[38;5;28mself\u001b[39m\u001b[38;5;241m.\u001b[39moperator \u001b[38;5;241m==\u001b[39m \u001b[38;5;124m\"\u001b[39m\u001b[38;5;124m<=\u001b[39m\u001b[38;5;124m\"\u001b[39m:\n\u001b[0;32m---> 63\u001b[0m     res \u001b[38;5;241m=\u001b[39m \u001b[38;5;241m1\u001b[39m \u001b[38;5;241m*\u001b[39m (X[:, \u001b[38;5;28mself\u001b[39m\u001b[38;5;241m.\u001b[39mfeature_index] \u001b[38;5;241m<\u001b[39m\u001b[38;5;241m=\u001b[39m \u001b[38;5;28mself\u001b[39m\u001b[38;5;241m.\u001b[39mthreshold)\n\u001b[1;32m     64\u001b[0m \u001b[38;5;28;01melif\u001b[39;00m \u001b[38;5;28mself\u001b[39m\u001b[38;5;241m.\u001b[39moperator \u001b[38;5;241m==\u001b[39m \u001b[38;5;124m\"\u001b[39m\u001b[38;5;124m>\u001b[39m\u001b[38;5;124m\"\u001b[39m:\n\u001b[1;32m     65\u001b[0m     res \u001b[38;5;241m=\u001b[39m \u001b[38;5;241m1\u001b[39m \u001b[38;5;241m*\u001b[39m (X[:, \u001b[38;5;28mself\u001b[39m\u001b[38;5;241m.\u001b[39mfeature_index] \u001b[38;5;241m>\u001b[39m \u001b[38;5;28mself\u001b[39m\u001b[38;5;241m.\u001b[39mthreshold)\n",
      "File \u001b[0;32m/opt/anaconda3/lib/python3.12/site-packages/pandas/core/frame.py:4102\u001b[0m, in \u001b[0;36mDataFrame.__getitem__\u001b[0;34m(self, key)\u001b[0m\n\u001b[1;32m   4100\u001b[0m \u001b[38;5;28;01mif\u001b[39;00m \u001b[38;5;28mself\u001b[39m\u001b[38;5;241m.\u001b[39mcolumns\u001b[38;5;241m.\u001b[39mnlevels \u001b[38;5;241m>\u001b[39m \u001b[38;5;241m1\u001b[39m:\n\u001b[1;32m   4101\u001b[0m     \u001b[38;5;28;01mreturn\u001b[39;00m \u001b[38;5;28mself\u001b[39m\u001b[38;5;241m.\u001b[39m_getitem_multilevel(key)\n\u001b[0;32m-> 4102\u001b[0m indexer \u001b[38;5;241m=\u001b[39m \u001b[38;5;28mself\u001b[39m\u001b[38;5;241m.\u001b[39mcolumns\u001b[38;5;241m.\u001b[39mget_loc(key)\n\u001b[1;32m   4103\u001b[0m \u001b[38;5;28;01mif\u001b[39;00m is_integer(indexer):\n\u001b[1;32m   4104\u001b[0m     indexer \u001b[38;5;241m=\u001b[39m [indexer]\n",
      "File \u001b[0;32m/opt/anaconda3/lib/python3.12/site-packages/pandas/core/indexes/base.py:3811\u001b[0m, in \u001b[0;36mIndex.get_loc\u001b[0;34m(self, key)\u001b[0m\n\u001b[1;32m   3806\u001b[0m \u001b[38;5;28;01mexcept\u001b[39;00m \u001b[38;5;167;01mKeyError\u001b[39;00m \u001b[38;5;28;01mas\u001b[39;00m err:\n\u001b[1;32m   3807\u001b[0m     \u001b[38;5;28;01mif\u001b[39;00m \u001b[38;5;28misinstance\u001b[39m(casted_key, \u001b[38;5;28mslice\u001b[39m) \u001b[38;5;129;01mor\u001b[39;00m (\n\u001b[1;32m   3808\u001b[0m         \u001b[38;5;28misinstance\u001b[39m(casted_key, abc\u001b[38;5;241m.\u001b[39mIterable)\n\u001b[1;32m   3809\u001b[0m         \u001b[38;5;129;01mand\u001b[39;00m \u001b[38;5;28many\u001b[39m(\u001b[38;5;28misinstance\u001b[39m(x, \u001b[38;5;28mslice\u001b[39m) \u001b[38;5;28;01mfor\u001b[39;00m x \u001b[38;5;129;01min\u001b[39;00m casted_key)\n\u001b[1;32m   3810\u001b[0m     ):\n\u001b[0;32m-> 3811\u001b[0m         \u001b[38;5;28;01mraise\u001b[39;00m InvalidIndexError(key)\n\u001b[1;32m   3812\u001b[0m     \u001b[38;5;28;01mraise\u001b[39;00m \u001b[38;5;167;01mKeyError\u001b[39;00m(key) \u001b[38;5;28;01mfrom\u001b[39;00m \u001b[38;5;21;01merr\u001b[39;00m\n\u001b[1;32m   3813\u001b[0m \u001b[38;5;28;01mexcept\u001b[39;00m \u001b[38;5;167;01mTypeError\u001b[39;00m:\n\u001b[1;32m   3814\u001b[0m     \u001b[38;5;66;03m# If we have a listlike key, _check_indexing_error will raise\u001b[39;00m\n\u001b[1;32m   3815\u001b[0m     \u001b[38;5;66;03m#  InvalidIndexError. Otherwise we fall through and re-raise\u001b[39;00m\n\u001b[1;32m   3816\u001b[0m     \u001b[38;5;66;03m#  the TypeError.\u001b[39;00m\n",
      "\u001b[0;31mInvalidIndexError\u001b[0m: (slice(None, None, None), 0)"
     ]
    }
   ],
   "source": [
    "# 訓練模型\n",
    "rulefit_model.fit(X_train, y_train)\n",
    "\n",
    "# 在測試集上進行預測\n",
    "rulefit_predictions = rulefit_model.predict(X_test)\n",
    "\n",
    "# 計算性能指標\n",
    "rulefit_mse = mean_squared_error(y_test, rulefit_predictions)\n",
    "rulefit_r2 = r2_score(y_test, rulefit_predictions)\n",
    "\n",
    "# 顯示結果\n",
    "print(f\"RuleFit Model Mean Squared Error: {rulefit_mse}\")\n",
    "print(f\"RuleFit Model R-squared: {rulefit_r2}\")\n"
   ]
  },
  {
   "cell_type": "code",
   "execution_count": null,
   "id": "518b67be-bbf2-4850-8936-885d1eb37a19",
   "metadata": {},
   "outputs": [],
   "source": [
    "# Step 4: Apply M5-like Regression using Decision Tree\n",
    "# Initialize the Decision Tree Regressor\n",
    "\n",
    "from sklearn.tree import DecisionTreeRegressor\n",
    "\n",
    "m5_model = DecisionTreeRegressor(random_state=42)\n",
    "\n",
    "# Train the model\n",
    "m5_model.fit(X_train, y_train)\n",
    "\n",
    "# Predict on the test set\n",
    "m5_predictions = m5_model.predict(X_test)\n",
    "\n",
    "# Calculate performance metrics\n",
    "m5_mse = mean_squared_error(y_test, m5_predictions)\n",
    "m5_r2 = r2_score(y_test, m5_predictions)\n",
    "\n",
    "# Display results\n",
    "print(f\"M5-like Regression Mean Squared Error: {m5_mse}\")\n",
    "print(f\"M5-like Regression R-squared: {m5_r2}\")\n"
   ]
  },
  {
   "cell_type": "code",
   "execution_count": 41,
   "id": "4a252727-3be1-43da-8b49-5628e90bb15d",
   "metadata": {},
   "outputs": [
    {
     "name": "stdout",
     "output_type": "stream",
     "text": [
      "\n",
      "Comparison of Regression Models:\n",
      "                Model  Mean Squared Error  R-squared\n",
      "0   Linear Regression            0.019886   0.379065\n",
      "1       Random Forest            0.019347   0.395890\n",
      "2  M5-like Regression            0.021474   0.329474\n"
     ]
    },
    {
     "data": {
      "image/png": "[encoded data removed]",
      "text/plain": [
       "<Figure size 1000x600 with 1 Axes>"
      ]
     },
     "metadata": {},
     "output_type": "display_data"
    },
    {
     "data": {
      "image/png": "[encoded data removed]",
      "text/plain": [
       "<Figure size 1000x600 with 1 Axes>"
      ]
     },
     "metadata": {},
     "output_type": "display_data"
    }
   ],
   "source": [
    "# Step 5: Compare all models\n",
    "# Compile results into a dictionary\n",
    "import matplotlib.pyplot as plt\n",
    "\n",
    "results = {\n",
    "    'Model': ['Linear Regression', 'Random Forest', 'M5-like Regression'],\n",
    "    'Mean Squared Error': [linear_mse, rf_mse,  m5_mse],\n",
    "    'R-squared': [linear_r2, rf_r2, m5_r2]\n",
    "}\n",
    "\n",
    "# Convert results to a DataFrame for display\n",
    "results_df = pd.DataFrame(results)\n",
    "\n",
    "# Display the results\n",
    "print(\"\\nComparison of Regression Models:\")\n",
    "print(results_df)\n",
    "\n",
    "# Visualize the comparison\n",
    "plt.figure(figsize=(10, 6))\n",
    "\n",
    "# Bar plot for Mean Squared Error\n",
    "plt.bar(results['Model'], results['Mean Squared Error'], alpha=0.7, label='Mean Squared Error')\n",
    "plt.title('Comparison of Regression Models - Mean Squared Error')\n",
    "plt.ylabel('Mean Squared Error')\n",
    "plt.xticks(rotation=45)\n",
    "plt.legend()\n",
    "plt.show()\n",
    "\n",
    "# Bar plot for R-squared\n",
    "plt.figure(figsize=(10, 6))\n",
    "plt.bar(results['Model'], results['R-squared'], alpha=0.7, color='orange', label='R-squared')\n",
    "plt.title('Comparison of Regression Models - R-squared')\n",
    "plt.ylabel('R-squared')\n",
    "plt.xticks(rotation=45)\n",
    "plt.legend()\n",
    "plt.show()\n"
   ]
  },
  {
   "cell_type": "code",
   "execution_count": null,
   "id": "6a39682f-0e4c-4cde-8712-b8537e726cee",
   "metadata": {},
   "outputs": [],
   "source": []
  }
 ],
 "metadata": {
  "kernelspec": {
   "display_name": "Python 3 (ipykernel)",
   "language": "python",
   "name": "python3"
  },
  "language_info": {
   "codemirror_mode": {
    "name": "ipython",
    "version": 3
   },
   "file_extension": ".py",
   "mimetype": "text/x-python",
   "name": "python",
   "nbconvert_exporter": "python",
   "pygments_lexer": "ipython3",
   "version": "3.12.4"
  }
 },
 "nbformat": 4,
 "nbformat_minor": 5
}
